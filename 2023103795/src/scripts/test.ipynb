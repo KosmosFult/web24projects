{
 "cells": [
  {
   "cell_type": "code",
   "execution_count": 1,
   "metadata": {},
   "outputs": [
    {
     "name": "stdout",
     "output_type": "stream",
     "text": [
      "1898463\n",
      "(1447, '1028868404.mp4')\n"
     ]
    }
   ],
   "source": [
    "import os\n",
    "\n",
    "def get_file_sizes(folder_path):\n",
    "    file_list = []\n",
    "    for filename in os.listdir(folder_path):\n",
    "        file_path = os.path.join(folder_path, filename)\n",
    "        if os.path.isfile(file_path):\n",
    "            file_size = os.path.getsize(file_path)\n",
    "            if file_size == 0:\n",
    "                os.remove(file_path)\n",
    "                continue\n",
    "            file_list.append((file_size, filename))\n",
    "    return file_list\n",
    "\n",
    "def print_sorted_files(file_list):\n",
    "    sorted_files = sorted(file_list)\n",
    "    print(len(sorted_files))\n",
    "    print(sorted_files[0])\n",
    "    # for size, filename in sorted_files:\n",
    "    #     print(f\"{filename}: {size} bytes\")\n",
    "    \n",
    "\n",
    "folder_path = \"/datassd1/WebVid/videos\"  # 替换为你要检查的文件夹路径\n",
    "file_list = get_file_sizes(folder_path)\n",
    "print_sorted_files(file_list)"
   ]
  },
  {
   "cell_type": "code",
   "execution_count": 6,
   "metadata": {},
   "outputs": [],
   "source": [
    "file_list = sorted(file_list)"
   ]
  },
  {
   "cell_type": "code",
   "execution_count": 10,
   "metadata": {},
   "outputs": [
    {
     "data": {
      "text/plain": [
       "(1447, '1028868404.mp4')"
      ]
     },
     "execution_count": 10,
     "metadata": {},
     "output_type": "execute_result"
    }
   ],
   "source": [
    "file_list[0]"
   ]
  }
 ],
 "metadata": {
  "kernelspec": {
   "display_name": "base",
   "language": "python",
   "name": "python3"
  },
  "language_info": {
   "codemirror_mode": {
    "name": "ipython",
    "version": 3
   },
   "file_extension": ".py",
   "mimetype": "text/x-python",
   "name": "python",
   "nbconvert_exporter": "python",
   "pygments_lexer": "ipython3",
   "version": "3.10.8"
  }
 },
 "nbformat": 4,
 "nbformat_minor": 2
}
